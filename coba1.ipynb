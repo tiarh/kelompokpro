{
 "cells": [
  {
   "cell_type": "code",
   "execution_count": 3,
   "metadata": {},
   "outputs": [],
   "source": [
    "import pandas as pd\n",
    "import numpy as np\n",
    "from sklearn.model_selection import train_test_split\n",
    "from sklearn.neighbors import KNeighborsRegressor\n",
    "from sklearn.tree import DecisionTreeRegressor\n",
    "from sklearn.neural_network import MLPRegressor\n",
    "from sklearn.preprocessing import MinMaxScaler\n",
    "from sklearn.decomposition import PCA\n",
    "from sklearn.metrics import mean_absolute_percentage_error, mean_squared_error"
   ]
  },
  {
   "cell_type": "code",
   "execution_count": 4,
   "metadata": {},
   "outputs": [],
   "source": [
    "# Fungsi untuk membagi urutan waktu menjadi sampel-sampel\n",
    "def split_sequence(sequence, n_steps):\n",
    "    X, y = [], []\n",
    "    for i in range(len(sequence)):\n",
    "        end_ix = i + n_steps\n",
    "        if end_ix > len(sequence) - 1:\n",
    "            break\n",
    "        seq_x, seq_y = sequence[i:end_ix], sequence[end_ix]\n",
    "        X.append(seq_x)\n",
    "        y.append(seq_y)\n",
    "    return np.array(X), np.array(y)"
   ]
  },
  {
   "cell_type": "code",
   "execution_count": 5,
   "metadata": {},
   "outputs": [
    {
     "data": {
      "text/html": [
       "<div>\n",
       "<style scoped>\n",
       "    .dataframe tbody tr th:only-of-type {\n",
       "        vertical-align: middle;\n",
       "    }\n",
       "\n",
       "    .dataframe tbody tr th {\n",
       "        vertical-align: top;\n",
       "    }\n",
       "\n",
       "    .dataframe thead th {\n",
       "        text-align: right;\n",
       "    }\n",
       "</style>\n",
       "<table border=\"1\" class=\"dataframe\">\n",
       "  <thead>\n",
       "    <tr style=\"text-align: right;\">\n",
       "      <th></th>\n",
       "      <th>Date</th>\n",
       "      <th>Open</th>\n",
       "      <th>High</th>\n",
       "      <th>Low</th>\n",
       "      <th>Close</th>\n",
       "      <th>Adj Close</th>\n",
       "      <th>Volume</th>\n",
       "    </tr>\n",
       "  </thead>\n",
       "  <tbody>\n",
       "    <tr>\n",
       "      <th>0</th>\n",
       "      <td>2022-06-15</td>\n",
       "      <td>2180.0</td>\n",
       "      <td>2240.0</td>\n",
       "      <td>2120.0</td>\n",
       "      <td>2170.0</td>\n",
       "      <td>2170.0</td>\n",
       "      <td>94872500</td>\n",
       "    </tr>\n",
       "    <tr>\n",
       "      <th>1</th>\n",
       "      <td>2022-06-16</td>\n",
       "      <td>2200.0</td>\n",
       "      <td>2230.0</td>\n",
       "      <td>2140.0</td>\n",
       "      <td>2150.0</td>\n",
       "      <td>2150.0</td>\n",
       "      <td>99487000</td>\n",
       "    </tr>\n",
       "    <tr>\n",
       "      <th>2</th>\n",
       "      <td>2022-06-17</td>\n",
       "      <td>2120.0</td>\n",
       "      <td>2140.0</td>\n",
       "      <td>2100.0</td>\n",
       "      <td>2110.0</td>\n",
       "      <td>2110.0</td>\n",
       "      <td>70818600</td>\n",
       "    </tr>\n",
       "    <tr>\n",
       "      <th>3</th>\n",
       "      <td>2022-06-20</td>\n",
       "      <td>2110.0</td>\n",
       "      <td>2130.0</td>\n",
       "      <td>2050.0</td>\n",
       "      <td>2070.0</td>\n",
       "      <td>2070.0</td>\n",
       "      <td>78282700</td>\n",
       "    </tr>\n",
       "    <tr>\n",
       "      <th>4</th>\n",
       "      <td>2022-06-21</td>\n",
       "      <td>2080.0</td>\n",
       "      <td>2150.0</td>\n",
       "      <td>2070.0</td>\n",
       "      <td>2150.0</td>\n",
       "      <td>2150.0</td>\n",
       "      <td>83298700</td>\n",
       "    </tr>\n",
       "    <tr>\n",
       "      <th>5</th>\n",
       "      <td>2022-06-22</td>\n",
       "      <td>2140.0</td>\n",
       "      <td>2140.0</td>\n",
       "      <td>2020.0</td>\n",
       "      <td>2020.0</td>\n",
       "      <td>2020.0</td>\n",
       "      <td>171508200</td>\n",
       "    </tr>\n",
       "    <tr>\n",
       "      <th>6</th>\n",
       "      <td>2022-06-23</td>\n",
       "      <td>2020.0</td>\n",
       "      <td>2020.0</td>\n",
       "      <td>1955.0</td>\n",
       "      <td>1965.0</td>\n",
       "      <td>1965.0</td>\n",
       "      <td>127468500</td>\n",
       "    </tr>\n",
       "  </tbody>\n",
       "</table>\n",
       "</div>"
      ],
      "text/plain": [
       "         Date    Open    High     Low   Close  Adj Close     Volume\n",
       "0  2022-06-15  2180.0  2240.0  2120.0  2170.0     2170.0   94872500\n",
       "1  2022-06-16  2200.0  2230.0  2140.0  2150.0     2150.0   99487000\n",
       "2  2022-06-17  2120.0  2140.0  2100.0  2110.0     2110.0   70818600\n",
       "3  2022-06-20  2110.0  2130.0  2050.0  2070.0     2070.0   78282700\n",
       "4  2022-06-21  2080.0  2150.0  2070.0  2150.0     2150.0   83298700\n",
       "5  2022-06-22  2140.0  2140.0  2020.0  2020.0     2020.0  171508200\n",
       "6  2022-06-23  2020.0  2020.0  1955.0  1965.0     1965.0  127468500"
      ]
     },
     "execution_count": 5,
     "metadata": {},
     "output_type": "execute_result"
    }
   ],
   "source": [
    "df = pd.read_csv('ANTM.JK.csv')\n",
    "df.head(7)"
   ]
  },
  {
   "cell_type": "code",
   "execution_count": 6,
   "metadata": {},
   "outputs": [],
   "source": [
    "# Mengambil kolom-kolom yang spesifik\n",
    "selected_columns = ['Close']\n",
    "data = df[selected_columns]"
   ]
  },
  {
   "cell_type": "code",
   "execution_count": 7,
   "metadata": {},
   "outputs": [
    {
     "ename": "KeyError",
     "evalue": "3",
     "output_type": "error",
     "traceback": [
      "\u001b[0;31m---------------------------------------------------------------------------\u001b[0m",
      "\u001b[0;31mKeyError\u001b[0m                                  Traceback (most recent call last)",
      "File \u001b[0;32m~/.local/lib/python3.8/site-packages/pandas/core/indexes/base.py:3652\u001b[0m, in \u001b[0;36mIndex.get_loc\u001b[0;34m(self, key)\u001b[0m\n\u001b[1;32m   <a href='file:///home/ubuntu/.local/lib/python3.8/site-packages/pandas/core/indexes/base.py?line=3650'>3651</a>\u001b[0m \u001b[39mtry\u001b[39;00m:\n\u001b[0;32m-> <a href='file:///home/ubuntu/.local/lib/python3.8/site-packages/pandas/core/indexes/base.py?line=3651'>3652</a>\u001b[0m     \u001b[39mreturn\u001b[39;00m \u001b[39mself\u001b[39;49m\u001b[39m.\u001b[39;49m_engine\u001b[39m.\u001b[39;49mget_loc(casted_key)\n\u001b[1;32m   <a href='file:///home/ubuntu/.local/lib/python3.8/site-packages/pandas/core/indexes/base.py?line=3652'>3653</a>\u001b[0m \u001b[39mexcept\u001b[39;00m \u001b[39mKeyError\u001b[39;00m \u001b[39mas\u001b[39;00m err:\n",
      "File \u001b[0;32m~/.local/lib/python3.8/site-packages/pandas/_libs/index.pyx:147\u001b[0m, in \u001b[0;36mpandas._libs.index.IndexEngine.get_loc\u001b[0;34m()\u001b[0m\n",
      "File \u001b[0;32m~/.local/lib/python3.8/site-packages/pandas/_libs/index.pyx:176\u001b[0m, in \u001b[0;36mpandas._libs.index.IndexEngine.get_loc\u001b[0;34m()\u001b[0m\n",
      "File \u001b[0;32mpandas/_libs/hashtable_class_helper.pxi:7080\u001b[0m, in \u001b[0;36mpandas._libs.hashtable.PyObjectHashTable.get_item\u001b[0;34m()\u001b[0m\n",
      "File \u001b[0;32mpandas/_libs/hashtable_class_helper.pxi:7088\u001b[0m, in \u001b[0;36mpandas._libs.hashtable.PyObjectHashTable.get_item\u001b[0;34m()\u001b[0m\n",
      "\u001b[0;31mKeyError\u001b[0m: 3",
      "\nThe above exception was the direct cause of the following exception:\n",
      "\u001b[0;31mKeyError\u001b[0m                                  Traceback (most recent call last)",
      "Cell \u001b[0;32mIn[7], line 5\u001b[0m\n\u001b[1;32m      2\u001b[0m n_steps \u001b[38;5;241m=\u001b[39m \u001b[38;5;241m3\u001b[39m\n\u001b[1;32m      4\u001b[0m \u001b[38;5;66;03m# Memisahkan data menjadi input (X) dan output (y)\u001b[39;00m\n\u001b[0;32m----> 5\u001b[0m X, y \u001b[38;5;241m=\u001b[39m \u001b[43msplit_sequence\u001b[49m\u001b[43m(\u001b[49m\u001b[43mdata\u001b[49m\u001b[43m,\u001b[49m\u001b[43m \u001b[49m\u001b[43mn_steps\u001b[49m\u001b[43m)\u001b[49m\n",
      "Cell \u001b[0;32mIn[4], line 8\u001b[0m, in \u001b[0;36msplit_sequence\u001b[0;34m(sequence, n_steps)\u001b[0m\n\u001b[1;32m      6\u001b[0m \u001b[38;5;28;01mif\u001b[39;00m end_ix \u001b[38;5;241m>\u001b[39m \u001b[38;5;28mlen\u001b[39m(sequence) \u001b[38;5;241m-\u001b[39m \u001b[38;5;241m1\u001b[39m:\n\u001b[1;32m      7\u001b[0m     \u001b[38;5;28;01mbreak\u001b[39;00m\n\u001b[0;32m----> 8\u001b[0m seq_x, seq_y \u001b[38;5;241m=\u001b[39m sequence[i:end_ix], \u001b[43msequence\u001b[49m\u001b[43m[\u001b[49m\u001b[43mend_ix\u001b[49m\u001b[43m]\u001b[49m\n\u001b[1;32m      9\u001b[0m X\u001b[38;5;241m.\u001b[39mappend(seq_x)\n\u001b[1;32m     10\u001b[0m y\u001b[38;5;241m.\u001b[39mappend(seq_y)\n",
      "File \u001b[0;32m~/.local/lib/python3.8/site-packages/pandas/core/frame.py:3761\u001b[0m, in \u001b[0;36mDataFrame.__getitem__\u001b[0;34m(self, key)\u001b[0m\n\u001b[1;32m   <a href='file:///home/ubuntu/.local/lib/python3.8/site-packages/pandas/core/frame.py?line=3758'>3759</a>\u001b[0m \u001b[39mif\u001b[39;00m \u001b[39mself\u001b[39m\u001b[39m.\u001b[39mcolumns\u001b[39m.\u001b[39mnlevels \u001b[39m>\u001b[39m \u001b[39m1\u001b[39m:\n\u001b[1;32m   <a href='file:///home/ubuntu/.local/lib/python3.8/site-packages/pandas/core/frame.py?line=3759'>3760</a>\u001b[0m     \u001b[39mreturn\u001b[39;00m \u001b[39mself\u001b[39m\u001b[39m.\u001b[39m_getitem_multilevel(key)\n\u001b[0;32m-> <a href='file:///home/ubuntu/.local/lib/python3.8/site-packages/pandas/core/frame.py?line=3760'>3761</a>\u001b[0m indexer \u001b[39m=\u001b[39m \u001b[39mself\u001b[39;49m\u001b[39m.\u001b[39;49mcolumns\u001b[39m.\u001b[39;49mget_loc(key)\n\u001b[1;32m   <a href='file:///home/ubuntu/.local/lib/python3.8/site-packages/pandas/core/frame.py?line=3761'>3762</a>\u001b[0m \u001b[39mif\u001b[39;00m is_integer(indexer):\n\u001b[1;32m   <a href='file:///home/ubuntu/.local/lib/python3.8/site-packages/pandas/core/frame.py?line=3762'>3763</a>\u001b[0m     indexer \u001b[39m=\u001b[39m [indexer]\n",
      "File \u001b[0;32m~/.local/lib/python3.8/site-packages/pandas/core/indexes/base.py:3654\u001b[0m, in \u001b[0;36mIndex.get_loc\u001b[0;34m(self, key)\u001b[0m\n\u001b[1;32m   <a href='file:///home/ubuntu/.local/lib/python3.8/site-packages/pandas/core/indexes/base.py?line=3651'>3652</a>\u001b[0m     \u001b[39mreturn\u001b[39;00m \u001b[39mself\u001b[39m\u001b[39m.\u001b[39m_engine\u001b[39m.\u001b[39mget_loc(casted_key)\n\u001b[1;32m   <a href='file:///home/ubuntu/.local/lib/python3.8/site-packages/pandas/core/indexes/base.py?line=3652'>3653</a>\u001b[0m \u001b[39mexcept\u001b[39;00m \u001b[39mKeyError\u001b[39;00m \u001b[39mas\u001b[39;00m err:\n\u001b[0;32m-> <a href='file:///home/ubuntu/.local/lib/python3.8/site-packages/pandas/core/indexes/base.py?line=3653'>3654</a>\u001b[0m     \u001b[39mraise\u001b[39;00m \u001b[39mKeyError\u001b[39;00m(key) \u001b[39mfrom\u001b[39;00m \u001b[39merr\u001b[39;00m\n\u001b[1;32m   <a href='file:///home/ubuntu/.local/lib/python3.8/site-packages/pandas/core/indexes/base.py?line=3654'>3655</a>\u001b[0m \u001b[39mexcept\u001b[39;00m \u001b[39mTypeError\u001b[39;00m:\n\u001b[1;32m   <a href='file:///home/ubuntu/.local/lib/python3.8/site-packages/pandas/core/indexes/base.py?line=3655'>3656</a>\u001b[0m     \u001b[39m# If we have a listlike key, _check_indexing_error will raise\u001b[39;00m\n\u001b[1;32m   <a href='file:///home/ubuntu/.local/lib/python3.8/site-packages/pandas/core/indexes/base.py?line=3656'>3657</a>\u001b[0m     \u001b[39m#  InvalidIndexError. Otherwise we fall through and re-raise\u001b[39;00m\n\u001b[1;32m   <a href='file:///home/ubuntu/.local/lib/python3.8/site-packages/pandas/core/indexes/base.py?line=3657'>3658</a>\u001b[0m     \u001b[39m#  the TypeError.\u001b[39;00m\n\u001b[1;32m   <a href='file:///home/ubuntu/.local/lib/python3.8/site-packages/pandas/core/indexes/base.py?line=3658'>3659</a>\u001b[0m     \u001b[39mself\u001b[39m\u001b[39m.\u001b[39m_check_indexing_error(key)\n",
      "\u001b[0;31mKeyError\u001b[0m: 3"
     ]
    }
   ],
   "source": [
    "# Jumlah langkah dalam sequence\n",
    "n_steps = 3\n",
    "\n",
    "# Memisahkan data menjadi input (X) dan output (y)\n",
    "X, y = split_sequence(data, n_steps)"
   ]
  },
  {
   "cell_type": "code",
   "execution_count": null,
   "metadata": {},
   "outputs": [],
   "source": [
    "# Membagi data menjadi data latih dan data uji\n",
    "X_train, X_test, y_train, y_test = train_test_split(X, y, test_size=0.2, random_state=0)"
   ]
  },
  {
   "cell_type": "code",
   "execution_count": null,
   "metadata": {},
   "outputs": [],
   "source": [
    "# Normalisasi data menggunakan MinMaxScaler\n",
    "scaler = MinMaxScaler()\n",
    "X_train_scaled = scaler.fit_transform(X_train)\n",
    "X_test_scaled = scaler.transform(X_test)"
   ]
  },
  {
   "cell_type": "code",
   "execution_count": null,
   "metadata": {},
   "outputs": [],
   "source": [
    "# Reduksi dimensi menggunakan PCA\n",
    "pca = PCA(n_components=2)\n",
    "X_train_pca = pca.fit_transform(X_train_scaled)\n",
    "X_test_pca = pca.transform(X_test_scaled)"
   ]
  },
  {
   "cell_type": "code",
   "execution_count": null,
   "metadata": {},
   "outputs": [],
   "source": [
    "# Membuat model KNN\n",
    "knn = KNeighborsRegressor(n_neighbors=5)\n",
    "knn.fit(X_train_pca, y_train)"
   ]
  },
  {
   "cell_type": "code",
   "execution_count": null,
   "metadata": {},
   "outputs": [],
   "source": [
    "# Membuat model Pohon Keputusan\n",
    "decision_tree = DecisionTreeRegressor(random_state=0)\n",
    "decision_tree.fit(X_train_pca, y_train)"
   ]
  },
  {
   "cell_type": "code",
   "execution_count": null,
   "metadata": {},
   "outputs": [],
   "source": [
    "\n",
    "# Membuat model MLP\n",
    "mlp = MLPRegressor(hidden_layer_sizes=(10, 10), max_iter=1000, random_state=0)\n",
    "mlp.fit(X_train_pca, y_train)"
   ]
  },
  {
   "cell_type": "code",
   "execution_count": null,
   "metadata": {},
   "outputs": [],
   "source": [
    "# Memprediksi nilai Close menggunakan data uji\n",
    "y_pred_knn = knn.predict(X_test_pca)\n",
    "y_pred_decision_tree = decision_tree.predict(X_test_pca)\n",
    "y_pred_mlp = mlp.predict(X_test_pca)"
   ]
  },
  {
   "cell_type": "code",
   "execution_count": null,
   "metadata": {},
   "outputs": [],
   "source": [
    "# Menghitung MAPE\n",
    "mape_knn = mean_absolute_percentage_error(y_test, y_pred_knn)\n",
    "mape_decision_tree = mean_absolute_percentage_error(y_test, y_pred_decision_tree)\n",
    "mape_mlp = mean_absolute_percentage_error(y_test, y_pred_mlp)"
   ]
  },
  {
   "cell_type": "code",
   "execution_count": null,
   "metadata": {},
   "outputs": [],
   "source": [
    "# Menghitung MSE\n",
    "mse_knn = mean_squared_error(y_test, y_pred_knn)\n",
    "mse_decision_tree = mean_squared_error(y_test, y_pred_decision_tree)\n",
    "mse_mlp = mean_squared_error(y_test, y_pred_mlp)"
   ]
  },
  {
   "cell_type": "code",
   "execution_count": null,
   "metadata": {},
   "outputs": [],
   "source": [
    "# Menampilkan hasil\n",
    "print('MAPE (KNN):', mape_knn)\n",
    "print('MAPE (Decision Tree):', mape_decision_tree)\n",
    "print('MAPE (MLP):', mape_mlp)\n",
    "print('MSE (KNN):', mse_knn)\n",
    "print('MSE (Decision Tree):', mse_decision_tree)\n",
    "print('MSE (MLP):', mse_mlp)"
   ]
  },
  {
   "cell_type": "code",
   "execution_count": 15,
   "metadata": {},
   "outputs": [
    {
     "name": "stdout",
     "output_type": "stream",
     "text": [
      "KNN - MAPE: 0.0186153600300869\n",
      "Decision Tree - MAPE: 0.02654068956731563\n",
      "MLP - MAPE: 0.9989925601287857\n",
      "KNN - MSE: 2262.796751353602\n",
      "Decision Tree - MSE: 4661.224489795918\n",
      "MLP - MSE: 3974646.7827581265\n"
     ]
    },
    {
     "name": "stderr",
     "output_type": "stream",
     "text": [
      "/home/ubuntu/.local/lib/python3.8/site-packages/sklearn/neural_network/_multilayer_perceptron.py:686: ConvergenceWarning: Stochastic Optimizer: Maximum iterations (200) reached and the optimization hasn't converged yet.\n",
      "  warnings.warn(\n"
     ]
    }
   ],
   "source": [
    "import pandas as pd\n",
    "from numpy import array\n",
    "from sklearn.model_selection import train_test_split\n",
    "from sklearn.preprocessing import MinMaxScaler\n",
    "from sklearn.decomposition import PCA\n",
    "from sklearn.neighbors import KNeighborsRegressor\n",
    "from sklearn.tree import DecisionTreeRegressor\n",
    "from sklearn.neural_network import MLPRegressor\n",
    "from sklearn.metrics import mean_absolute_percentage_error, mean_squared_error\n",
    "\n",
    "# transform univariate time series to supervised learning problem\n",
    "def split_sequence(sequence, n_steps):\n",
    "    X, y = [], []\n",
    "    for i in range(len(sequence)):\n",
    "        # find the end of this pattern\n",
    "        end_ix = i + n_steps\n",
    "        # check if we are beyond the sequence\n",
    "        if end_ix >= len(sequence):\n",
    "            break\n",
    "        # gather input and output parts of the pattern\n",
    "        seq_x, seq_y = sequence[i:end_ix], sequence[end_ix]\n",
    "        X.append(seq_x)\n",
    "        y.append(seq_y)\n",
    "    return array(X), array(y)\n",
    "\n",
    "# Load the dataset\n",
    "data = pd.read_csv('ANTM.JK.csv')  # Replace 'your_dataset.csv' with your actual dataset\n",
    "\n",
    "# Extract the 'Close' column as the target variable\n",
    "target = data['Close'].values\n",
    "\n",
    "# Split the data into input (X) and output (y)\n",
    "n_steps = 5  # Number of time steps\n",
    "X, y = split_sequence(target, n_steps)\n",
    "\n",
    "# Split the data into training and testing sets\n",
    "X_train, X_test, y_train, y_test = train_test_split(X, y, test_size=0.2, random_state=0)\n",
    "\n",
    "# Apply MinMaxScaler to normalize the input data\n",
    "scaler = MinMaxScaler()\n",
    "X_train_scaled = scaler.fit_transform(X_train)\n",
    "X_test_scaled = scaler.transform(X_test)\n",
    "\n",
    "# Apply PCA for dimensionality reduction\n",
    "pca = PCA(n_components=2)\n",
    "X_train_pca = pca.fit_transform(X_train_scaled)\n",
    "X_test_pca = pca.transform(X_test_scaled)\n",
    "\n",
    "# Train the KNN model\n",
    "knn = KNeighborsRegressor(n_neighbors=7)\n",
    "knn.fit(X_train_pca, y_train)\n",
    "knn_pred = knn.predict(X_test_pca)\n",
    "\n",
    "# Train the Decision Tree model\n",
    "tree = DecisionTreeRegressor()\n",
    "tree.fit(X_train_pca, y_train)\n",
    "tree_pred = tree.predict(X_test_pca)\n",
    "\n",
    "# Train the MLP model\n",
    "mlp = MLPRegressor(hidden_layer_sizes=(10, 10))\n",
    "\n",
    "mlp.fit(X_train_pca, y_train)\n",
    "mlp_pred = mlp.predict(X_test_pca)\n",
    "\n",
    "# Calculate MAPE and MSE for each model\n",
    "knn_mape = mean_absolute_percentage_error(y_test, knn_pred)\n",
    "tree_mape = mean_absolute_percentage_error(y_test, tree_pred)\n",
    "mlp_mape = mean_absolute_percentage_error(y_test, mlp_pred)\n",
    "\n",
    "knn_mse = mean_squared_error(y_test, knn_pred)\n",
    "tree_mse = mean_squared_error(y_test, tree_pred)\n",
    "mlp_mse = mean_squared_error(y_test, mlp_pred)\n",
    "\n",
    "# Print the results\n",
    "print(\"KNN - MAPE:\", knn_mape)\n",
    "print(\"Decision Tree - MAPE:\", tree_mape)\n",
    "print(\"MLP - MAPE:\", mlp_mape)\n",
    "print(\"KNN - MSE:\", knn_mse)\n",
    "print(\"Decision Tree - MSE:\", tree_mse)\n",
    "print(\"MLP - MSE:\", mlp_mse)\n"
   ]
  }
 ],
 "metadata": {
  "language_info": {
   "name": "python"
  },
  "orig_nbformat": 4
 },
 "nbformat": 4,
 "nbformat_minor": 2
}
