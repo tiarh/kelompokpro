{
 "cells": [
  {
   "cell_type": "code",
   "execution_count": 1,
   "metadata": {},
   "outputs": [
    {
     "name": "stdout",
     "output_type": "stream",
     "text": [
      "Package                Version             \n",
      "---------------------- --------------------\n",
      "asttokens              2.2.1               \n",
      "attrs                  19.3.0              \n",
      "Automat                0.8.0               \n",
      "Babel                  2.6.0               \n",
      "backcall               0.2.0               \n",
      "blinker                1.4                 \n",
      "certifi                2019.11.28          \n",
      "chardet                3.0.4               \n",
      "Click                  7.0                 \n",
      "cloud-init             22.3.4              \n",
      "colorama               0.4.3               \n",
      "comm                   0.1.3               \n",
      "command-not-found      0.3                 \n",
      "configobj              5.0.6               \n",
      "constantly             15.1.0              \n",
      "cryptography           2.8                 \n",
      "cupshelpers            1.0                 \n",
      "dbus-python            1.2.16              \n",
      "debtcollector          2.0.0               \n",
      "debugpy                1.6.7               \n",
      "decorator              5.1.1               \n",
      "defer                  1.0.6               \n",
      "distro                 1.4.0               \n",
      "distro-info            0.23ubuntu1         \n",
      "docutils               0.16                \n",
      "entrypoints            0.3                 \n",
      "executing              1.2.0               \n",
      "httplib2               0.14.0              \n",
      "hyperlink              19.0.0              \n",
      "idna                   2.8                 \n",
      "importlib-metadata     6.6.0               \n",
      "incremental            16.10.1             \n",
      "ipykernel              6.23.1              \n",
      "ipython                8.12.2              \n",
      "iso8601                0.1.12              \n",
      "jedi                   0.18.2              \n",
      "Jinja2                 2.10.1              \n",
      "jsonpatch              1.22                \n",
      "jsonpointer            2.0                 \n",
      "jsonschema             3.2.0               \n",
      "jupyter-client         8.2.0               \n",
      "jupyter-core           5.3.0               \n",
      "keyring                18.0.1              \n",
      "language-selector      0.1                 \n",
      "launchpadlib           1.10.13             \n",
      "lazr.restfulclient     0.14.2              \n",
      "lazr.uri               1.0.3               \n",
      "macaroonbakery         1.3.1               \n",
      "MarkupSafe             1.1.0               \n",
      "matplotlib-inline      0.1.6               \n",
      "monotonic              1.5                 \n",
      "more-itertools         4.2.0               \n",
      "msgpack                0.6.2               \n",
      "nest-asyncio           1.5.6               \n",
      "netaddr                0.7.19              \n",
      "netifaces              0.10.4              \n",
      "numpy                  1.17.4              \n",
      "oauthlib               3.1.0               \n",
      "olefile                0.46                \n",
      "oslo.config            8.0.2               \n",
      "oslo.context           3.0.2               \n",
      "oslo.i18n              4.0.1               \n",
      "oslo.log               4.1.1               \n",
      "oslo.serialization     3.1.1               \n",
      "oslo.utils             4.1.1               \n",
      "packaging              23.1                \n",
      "parso                  0.8.3               \n",
      "pbr                    5.4.5               \n",
      "pexpect                4.6.0               \n",
      "pickleshare            0.7.5               \n",
      "Pillow                 7.0.0               \n",
      "pip                    20.0.2              \n",
      "platformdirs           3.5.1               \n",
      "prompt-toolkit         3.0.38              \n",
      "protobuf               3.6.1               \n",
      "psutil                 5.5.1               \n",
      "pure-eval              0.2.2               \n",
      "pyasn1                 0.4.2               \n",
      "pyasn1-modules         0.2.1               \n",
      "pycairo                1.16.2              \n",
      "pycups                 1.9.73              \n",
      "Pygments               2.15.1              \n",
      "PyGObject              3.36.0              \n",
      "PyHamcrest             1.9.0               \n",
      "pyinotify              0.9.6               \n",
      "PyJWT                  1.7.1               \n",
      "pymacaroons            0.13.0              \n",
      "PyNaCl                 1.3.0               \n",
      "pyOpenSSL              19.0.0              \n",
      "pyparsing              2.4.6               \n",
      "pyRFC3339              1.1                 \n",
      "pyrsistent             0.15.5              \n",
      "pyserial               3.4                 \n",
      "python-apt             2.0.0+ubuntu0.20.4.8\n",
      "python-dateutil        2.8.2               \n",
      "python-debian          0.1.36ubuntu1       \n",
      "python-novnc           1.0.0               \n",
      "pytz                   2019.3              \n",
      "pyxdg                  0.26                \n",
      "PyYAML                 5.3.1               \n",
      "pyzmq                  25.1.0              \n",
      "requests               2.22.0              \n",
      "requests-unixsocket    0.2.0               \n",
      "rfc3986                1.3.2               \n",
      "roman                  2.0.0               \n",
      "SecretStorage          2.3.1               \n",
      "service-identity       18.1.0              \n",
      "setuptools             45.2.0              \n",
      "simplejson             3.16.0              \n",
      "six                    1.14.0              \n",
      "sos                    4.3                 \n",
      "ssh-import-id          5.10                \n",
      "stack-data             0.6.2               \n",
      "stevedore              1.32.0              \n",
      "systemd-python         234                 \n",
      "tornado                6.3.2               \n",
      "traitlets              5.9.0               \n",
      "Twisted                18.9.0              \n",
      "typing-extensions      4.6.3               \n",
      "ubuntu-advantage-tools 27.11.2             \n",
      "ufw                    0.36                \n",
      "unattended-upgrades    0.1                 \n",
      "urllib3                1.25.8              \n",
      "wadllib                1.3.3               \n",
      "wcwidth                0.2.6               \n",
      "websockify             0.9.0               \n",
      "wheel                  0.34.2              \n",
      "wrapt                  1.11.2              \n",
      "zipp                   1.0.0               \n",
      "zope.interface         4.7.1               \n",
      "Note: you may need to restart the kernel to use updated packages.\n"
     ]
    }
   ],
   "source": [
    "pip list"
   ]
  },
  {
   "cell_type": "code",
   "execution_count": 16,
   "metadata": {},
   "outputs": [],
   "source": [
    "import pandas as pd\n",
    "import numpy as np\n",
    "import matplotlib.pylab as plt\n",
    "%matplotlib inline\n",
    "from matplotlib.pylab import rcParams\n",
    "from datetime import datetime"
   ]
  },
  {
   "cell_type": "code",
   "execution_count": 21,
   "metadata": {},
   "outputs": [
    {
     "name": "stdout",
     "output_type": "stream",
     "text": [
      "(144, 2)\n"
     ]
    },
    {
     "data": {
      "text/html": [
       "<div>\n",
       "<style scoped>\n",
       "    .dataframe tbody tr th:only-of-type {\n",
       "        vertical-align: middle;\n",
       "    }\n",
       "\n",
       "    .dataframe tbody tr th {\n",
       "        vertical-align: top;\n",
       "    }\n",
       "\n",
       "    .dataframe thead th {\n",
       "        text-align: right;\n",
       "    }\n",
       "</style>\n",
       "<table border=\"1\" class=\"dataframe\">\n",
       "  <thead>\n",
       "    <tr style=\"text-align: right;\">\n",
       "      <th></th>\n",
       "      <th>Month</th>\n",
       "      <th>Passengers</th>\n",
       "    </tr>\n",
       "  </thead>\n",
       "  <tbody>\n",
       "    <tr>\n",
       "      <th>0</th>\n",
       "      <td>1949-01</td>\n",
       "      <td>112</td>\n",
       "    </tr>\n",
       "    <tr>\n",
       "      <th>1</th>\n",
       "      <td>1949-02</td>\n",
       "      <td>118</td>\n",
       "    </tr>\n",
       "    <tr>\n",
       "      <th>2</th>\n",
       "      <td>1949-03</td>\n",
       "      <td>132</td>\n",
       "    </tr>\n",
       "    <tr>\n",
       "      <th>3</th>\n",
       "      <td>1949-04</td>\n",
       "      <td>129</td>\n",
       "    </tr>\n",
       "    <tr>\n",
       "      <th>4</th>\n",
       "      <td>1949-05</td>\n",
       "      <td>121</td>\n",
       "    </tr>\n",
       "  </tbody>\n",
       "</table>\n",
       "</div>"
      ],
      "text/plain": [
       "     Month  Passengers\n",
       "0  1949-01         112\n",
       "1  1949-02         118\n",
       "2  1949-03         132\n",
       "3  1949-04         129\n",
       "4  1949-05         121"
      ]
     },
     "execution_count": 21,
     "metadata": {},
     "output_type": "execute_result"
    }
   ],
   "source": [
    "data = pd.read_csv(\"airline-passengers.csv\")\n",
    "print(data.shape)\n",
    "data.head()\n"
   ]
  },
  {
   "cell_type": "code",
   "execution_count": 24,
   "metadata": {},
   "outputs": [],
   "source": [
    "# transform univariate time series to supervised learning problem\n",
    "from numpy import array\n",
    "# split a univariate sequence into samples\n",
    "def split_sequence(sequence, n_steps):\n",
    "    X, y = list(), list()\n",
    "    for i in range(len(sequence)):\n",
    "    # find the end of this pattern\n",
    "        end_ix = i + n_steps\n",
    "    # check if we are beyond the sequence\n",
    "        if end_ix > len(sequence)-1:\n",
    "            break\n",
    "    # gather input and output parts of the pattern\n",
    "        # print(i, end_ix)\n",
    "        seq_x, seq_y = sequence[i:end_ix], sequence[end_ix]\n",
    "        X.append(seq_x)\n",
    "        y.append(seq_y)\n",
    "    return array(X), array(y)"
   ]
  },
  {
   "cell_type": "code",
   "execution_count": 22,
   "metadata": {},
   "outputs": [
    {
     "data": {
      "text/plain": [
       "<Axes: xlabel='Month'>"
      ]
     },
     "execution_count": 22,
     "metadata": {},
     "output_type": "execute_result"
    },
    {
     "data": {
      "image/png": "[encoded data removed]",
      "text/plain": [
       "<Figure size 640x480 with 1 Axes>"
      ]
     },
     "metadata": {},
     "output_type": "display_data"
    }
   ],
   "source": [
    "data.plot(x= 'Month', y='Passengers')"
   ]
  }
 ],
 "metadata": {
  "language_info": {
   "name": "python"
  },
  "orig_nbformat": 4
 },
 "nbformat": 4,
 "nbformat_minor": 2
}
