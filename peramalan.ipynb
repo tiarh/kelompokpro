{
 "cells": [
  {
   "attachments": {},
   "cell_type": "markdown",
   "metadata": {},
   "source": [
    "Ikhtiar Hidayatullah (200411100180)\n",
    "Denny Wahyudi Ramadhon (200411100170)"
   ]
  },
  {
   "attachments": {},
   "cell_type": "markdown",
   "metadata": {},
   "source": [
    "## Get and prepare Data"
   ]
  },
  {
   "attachments": {},
   "cell_type": "markdown",
   "metadata": {},
   "source": [
    "https://github.com/tiarh/kelompokpro"
   ]
  },
  {
   "cell_type": "code",
   "execution_count": 47,
   "metadata": {},
   "outputs": [],
   "source": [
    "import numpy as np\n",
    "import pandas as pd"
   ]
  },
  {
   "cell_type": "code",
   "execution_count": 48,
   "metadata": {},
   "outputs": [
    {
     "data": {
      "text/html": [
       "<div>\n",
       "<style scoped>\n",
       "    .dataframe tbody tr th:only-of-type {\n",
       "        vertical-align: middle;\n",
       "    }\n",
       "\n",
       "    .dataframe tbody tr th {\n",
       "        vertical-align: top;\n",
       "    }\n",
       "\n",
       "    .dataframe thead th {\n",
       "        text-align: right;\n",
       "    }\n",
       "</style>\n",
       "<table border=\"1\" class=\"dataframe\">\n",
       "  <thead>\n",
       "    <tr style=\"text-align: right;\">\n",
       "      <th></th>\n",
       "      <th>Month</th>\n",
       "      <th>Passengers</th>\n",
       "    </tr>\n",
       "  </thead>\n",
       "  <tbody>\n",
       "    <tr>\n",
       "      <th>0</th>\n",
       "      <td>1949-01</td>\n",
       "      <td>112</td>\n",
       "    </tr>\n",
       "    <tr>\n",
       "      <th>1</th>\n",
       "      <td>1949-02</td>\n",
       "      <td>118</td>\n",
       "    </tr>\n",
       "    <tr>\n",
       "      <th>2</th>\n",
       "      <td>1949-03</td>\n",
       "      <td>132</td>\n",
       "    </tr>\n",
       "    <tr>\n",
       "      <th>3</th>\n",
       "      <td>1949-04</td>\n",
       "      <td>129</td>\n",
       "    </tr>\n",
       "    <tr>\n",
       "      <th>4</th>\n",
       "      <td>1949-05</td>\n",
       "      <td>121</td>\n",
       "    </tr>\n",
       "    <tr>\n",
       "      <th>5</th>\n",
       "      <td>1949-06</td>\n",
       "      <td>135</td>\n",
       "    </tr>\n",
       "    <tr>\n",
       "      <th>6</th>\n",
       "      <td>1949-07</td>\n",
       "      <td>148</td>\n",
       "    </tr>\n",
       "  </tbody>\n",
       "</table>\n",
       "</div>"
      ],
      "text/plain": [
       "     Month  Passengers\n",
       "0  1949-01         112\n",
       "1  1949-02         118\n",
       "2  1949-03         132\n",
       "3  1949-04         129\n",
       "4  1949-05         121\n",
       "5  1949-06         135\n",
       "6  1949-07         148"
      ]
     },
     "execution_count": 48,
     "metadata": {},
     "output_type": "execute_result"
    }
   ],
   "source": [
    "df_data = pd.read_csv('airline-passengers.csv')\n",
    "df_data.head(7)"
   ]
  },
  {
   "cell_type": "code",
   "execution_count": 49,
   "metadata": {},
   "outputs": [
    {
     "data": {
      "text/plain": [
       "(144, 2)"
      ]
     },
     "execution_count": 49,
     "metadata": {},
     "output_type": "execute_result"
    }
   ],
   "source": [
    "df_data.shape"
   ]
  },
  {
   "cell_type": "code",
   "execution_count": 50,
   "metadata": {},
   "outputs": [],
   "source": [
    "df_passenger= df_data['Passengers']"
   ]
  },
  {
   "cell_type": "code",
   "execution_count": 51,
   "metadata": {},
   "outputs": [],
   "source": [
    "# transform univariate time series to supervised learning problem\n",
    "from numpy import array\n",
    "# split a univariate sequence into samples\n",
    "def split_sequence(sequence, n_steps):\n",
    "    X, y = list(), list()\n",
    "    for i in range(len(sequence)):\n",
    "    # find the end of this pattern\n",
    "        end_ix = i + n_steps\n",
    "    # check if we are beyond the sequence\n",
    "        if end_ix > len(sequence)-1:\n",
    "            break\n",
    "    # gather input and output parts of the pattern\n",
    "        # print(i, end_ix)\n",
    "        seq_x, seq_y = sequence[i:end_ix], sequence[end_ix]\n",
    "        X.append(seq_x)\n",
    "        y.append(seq_y)\n",
    "    return array(X), array(y)"
   ]
  },
  {
   "attachments": {},
   "cell_type": "markdown",
   "metadata": {},
   "source": [
    "## tuning data"
   ]
  },
  {
   "cell_type": "code",
   "execution_count": 52,
   "metadata": {},
   "outputs": [],
   "source": [
    "n_steps = 5\n",
    "X, y = split_sequence(df_passenger, n_steps)"
   ]
  },
  {
   "cell_type": "code",
   "execution_count": 53,
   "metadata": {},
   "outputs": [
    {
     "name": "stdout",
     "output_type": "stream",
     "text": [
      "(139, 5) (139,)\n"
     ]
    }
   ],
   "source": [
    "print(X.shape, y.shape)"
   ]
  },
  {
   "cell_type": "code",
   "execution_count": 54,
   "metadata": {},
   "outputs": [],
   "source": [
    "n_steps = 5\n",
    "X, y = split_sequence(df_passenger, n_steps)  # column names to X and y data frames\n",
    "df_X = pd.DataFrame(X, columns=['t-' + str(i) for i in range(n_steps-1, -1, -1)])\n",
    "df_y = pd.DataFrame(y, columns=['t+1 (prediction)'])\n",
    "\n",
    "# concat df_X and df_y\n",
    "df = pd.concat([df_X, df_y], axis=1)"
   ]
  },
  {
   "cell_type": "code",
   "execution_count": 55,
   "metadata": {},
   "outputs": [
    {
     "name": "stdout",
     "output_type": "stream",
     "text": [
      "(139, 5) (139,)\n"
     ]
    }
   ],
   "source": [
    "print(X.shape, y.shape)"
   ]
  },
  {
   "cell_type": "code",
   "execution_count": 56,
   "metadata": {},
   "outputs": [
    {
     "data": {
      "text/html": [
       "<div>\n",
       "<style scoped>\n",
       "    .dataframe tbody tr th:only-of-type {\n",
       "        vertical-align: middle;\n",
       "    }\n",
       "\n",
       "    .dataframe tbody tr th {\n",
       "        vertical-align: top;\n",
       "    }\n",
       "\n",
       "    .dataframe thead th {\n",
       "        text-align: right;\n",
       "    }\n",
       "</style>\n",
       "<table border=\"1\" class=\"dataframe\">\n",
       "  <thead>\n",
       "    <tr style=\"text-align: right;\">\n",
       "      <th></th>\n",
       "      <th>t-4</th>\n",
       "      <th>t-3</th>\n",
       "      <th>t-2</th>\n",
       "      <th>t-1</th>\n",
       "      <th>t-0</th>\n",
       "      <th>t+1 (prediction)</th>\n",
       "    </tr>\n",
       "  </thead>\n",
       "  <tbody>\n",
       "    <tr>\n",
       "      <th>0</th>\n",
       "      <td>112</td>\n",
       "      <td>118</td>\n",
       "      <td>132</td>\n",
       "      <td>129</td>\n",
       "      <td>121</td>\n",
       "      <td>135</td>\n",
       "    </tr>\n",
       "    <tr>\n",
       "      <th>1</th>\n",
       "      <td>118</td>\n",
       "      <td>132</td>\n",
       "      <td>129</td>\n",
       "      <td>121</td>\n",
       "      <td>135</td>\n",
       "      <td>148</td>\n",
       "    </tr>\n",
       "    <tr>\n",
       "      <th>2</th>\n",
       "      <td>132</td>\n",
       "      <td>129</td>\n",
       "      <td>121</td>\n",
       "      <td>135</td>\n",
       "      <td>148</td>\n",
       "      <td>148</td>\n",
       "    </tr>\n",
       "    <tr>\n",
       "      <th>3</th>\n",
       "      <td>129</td>\n",
       "      <td>121</td>\n",
       "      <td>135</td>\n",
       "      <td>148</td>\n",
       "      <td>148</td>\n",
       "      <td>136</td>\n",
       "    </tr>\n",
       "    <tr>\n",
       "      <th>4</th>\n",
       "      <td>121</td>\n",
       "      <td>135</td>\n",
       "      <td>148</td>\n",
       "      <td>148</td>\n",
       "      <td>136</td>\n",
       "      <td>119</td>\n",
       "    </tr>\n",
       "  </tbody>\n",
       "</table>\n",
       "</div>"
      ],
      "text/plain": [
       "   t-4  t-3  t-2  t-1  t-0  t+1 (prediction)\n",
       "0  112  118  132  129  121               135\n",
       "1  118  132  129  121  135               148\n",
       "2  132  129  121  135  148               148\n",
       "3  129  121  135  148  148               136\n",
       "4  121  135  148  148  136               119"
      ]
     },
     "execution_count": 56,
     "metadata": {},
     "output_type": "execute_result"
    }
   ],
   "source": [
    "# df_X.head()\n",
    "# df_y.head()\n",
    "df.head(5)"
   ]
  },
  {
   "attachments": {},
   "cell_type": "markdown",
   "metadata": {},
   "source": [
    "## Plotting"
   ]
  },
  {
   "cell_type": "code",
   "execution_count": 57,
   "metadata": {},
   "outputs": [
    {
     "data": {
      "image/png": "[encoded data removed]",
      "text/plain": [
       "<Figure size 640x480 with 1 Axes>"
      ]
     },
     "metadata": {},
     "output_type": "display_data"
    }
   ],
   "source": [
    "import matplotlib.pyplot as plt\n",
    "\n",
    "# Plotting\n",
    "plt.plot(df.index, df['t+1 (prediction)'], label='t+1 (prediction)')\n",
    "for i in range(n_steps):\n",
    "    plt.plot(df.index, df['t-' + str(i)], label='t-' + str(i))\n",
    "plt.xlabel('Index')\n",
    "plt.ylabel('Value')\n",
    "plt.legend()\n",
    "plt.show()"
   ]
  },
  {
   "attachments": {},
   "cell_type": "markdown",
   "metadata": {},
   "source": [
    "## Preprocessing"
   ]
  },
  {
   "cell_type": "code",
   "execution_count": 58,
   "metadata": {},
   "outputs": [],
   "source": [
    "from sklearn.preprocessing import MinMaxScaler\n",
    "scaler= MinMaxScaler()\n",
    "X_norm= scaler.fit_transform(df_X)\n",
    "# y_norm= scaler.fit_transform(df_y)"
   ]
  },
  {
   "cell_type": "code",
   "execution_count": 59,
   "metadata": {},
   "outputs": [
    {
     "data": {
      "text/plain": [
       "array([[0.01544402, 0.02702703, 0.05405405, 0.04826255, 0.03281853],\n",
       "       [0.02702703, 0.05405405, 0.04826255, 0.03281853, 0.05984556],\n",
       "       [0.05405405, 0.04826255, 0.03281853, 0.05984556, 0.08494208],\n",
       "       [0.04826255, 0.03281853, 0.05984556, 0.08494208, 0.08494208],\n",
       "       [0.03281853, 0.05984556, 0.08494208, 0.08494208, 0.06177606],\n",
       "       [0.05984556, 0.08494208, 0.08494208, 0.06177606, 0.02895753],\n",
       "       [0.08494208, 0.08494208, 0.06177606, 0.02895753, 0.        ],\n",
       "       [0.08494208, 0.06177606, 0.02895753, 0.        , 0.02702703],\n",
       "       [0.06177606, 0.02895753, 0.        , 0.02702703, 0.02123552],\n",
       "       [0.02895753, 0.        , 0.02702703, 0.02123552, 0.04247104],\n",
       "       [0.        , 0.02702703, 0.02123552, 0.04247104, 0.07142857],\n",
       "       [0.02702703, 0.02123552, 0.04247104, 0.07142857, 0.05984556],\n",
       "       [0.02123552, 0.04247104, 0.07142857, 0.05984556, 0.04054054],\n",
       "       [0.04247104, 0.07142857, 0.05984556, 0.04054054, 0.08687259],\n",
       "       [0.07142857, 0.05984556, 0.04054054, 0.08687259, 0.12741313],\n",
       "       [0.05984556, 0.04054054, 0.08687259, 0.12741313, 0.12741313],\n",
       "       [0.04054054, 0.08687259, 0.12741313, 0.12741313, 0.1042471 ],\n",
       "       [0.08687259, 0.12741313, 0.12741313, 0.1042471 , 0.05598456],\n",
       "       [0.12741313, 0.12741313, 0.1042471 , 0.05598456, 0.01930502],\n",
       "       [0.12741313, 0.1042471 , 0.05598456, 0.01930502, 0.06949807],\n",
       "       [0.1042471 , 0.05598456, 0.01930502, 0.06949807, 0.07915058],\n",
       "       [0.05598456, 0.01930502, 0.06949807, 0.07915058, 0.08880309],\n",
       "       [0.01930502, 0.06949807, 0.07915058, 0.08880309, 0.14285714],\n",
       "       [0.06949807, 0.07915058, 0.08880309, 0.14285714, 0.11389961],\n",
       "       [0.07915058, 0.08880309, 0.14285714, 0.11389961, 0.13127413],\n",
       "       [0.08880309, 0.14285714, 0.11389961, 0.13127413, 0.14285714],\n",
       "       [0.14285714, 0.11389961, 0.13127413, 0.14285714, 0.18339768],\n",
       "       [0.11389961, 0.13127413, 0.14285714, 0.18339768, 0.18339768],\n",
       "       [0.13127413, 0.14285714, 0.18339768, 0.18339768, 0.15444015],\n",
       "       [0.14285714, 0.18339768, 0.18339768, 0.15444015, 0.11196911],\n",
       "       [0.18339768, 0.18339768, 0.15444015, 0.11196911, 0.08108108],\n",
       "       [0.18339768, 0.15444015, 0.11196911, 0.08108108, 0.11969112],\n",
       "       [0.15444015, 0.11196911, 0.08108108, 0.11969112, 0.12934363],\n",
       "       [0.11196911, 0.08108108, 0.11969112, 0.12934363, 0.14671815],\n",
       "       [0.08108108, 0.11969112, 0.12934363, 0.14671815, 0.17181467],\n",
       "       [0.11969112, 0.12934363, 0.14671815, 0.17181467, 0.14864865],\n",
       "       [0.12934363, 0.14671815, 0.17181467, 0.14864865, 0.15250965],\n",
       "       [0.14671815, 0.17181467, 0.14864865, 0.15250965, 0.22007722],\n",
       "       [0.17181467, 0.14864865, 0.15250965, 0.22007722, 0.24324324],\n",
       "       [0.14864865, 0.15250965, 0.22007722, 0.24324324, 0.26640927],\n",
       "       [0.15250965, 0.22007722, 0.24324324, 0.26640927, 0.2027027 ],\n",
       "       [0.22007722, 0.24324324, 0.26640927, 0.2027027 , 0.16795367],\n",
       "       [0.24324324, 0.26640927, 0.2027027 , 0.16795367, 0.13127413],\n",
       "       [0.26640927, 0.2027027 , 0.16795367, 0.13127413, 0.17374517],\n",
       "       [0.2027027 , 0.16795367, 0.13127413, 0.17374517, 0.17760618],\n",
       "       [0.16795367, 0.13127413, 0.17374517, 0.17760618, 0.17760618],\n",
       "       [0.13127413, 0.17374517, 0.17760618, 0.17760618, 0.25482625],\n",
       "       [0.17374517, 0.17760618, 0.17760618, 0.25482625, 0.25289575],\n",
       "       [0.17760618, 0.17760618, 0.25482625, 0.25289575, 0.24131274],\n",
       "       [0.17760618, 0.25482625, 0.25289575, 0.24131274, 0.26833977],\n",
       "       [0.25482625, 0.25289575, 0.24131274, 0.26833977, 0.30888031],\n",
       "       [0.25289575, 0.24131274, 0.26833977, 0.30888031, 0.32432432],\n",
       "       [0.24131274, 0.26833977, 0.30888031, 0.32432432, 0.25675676],\n",
       "       [0.26833977, 0.30888031, 0.32432432, 0.25675676, 0.20656371],\n",
       "       [0.30888031, 0.32432432, 0.25675676, 0.20656371, 0.14671815],\n",
       "       [0.32432432, 0.25675676, 0.20656371, 0.14671815, 0.18725869],\n",
       "       [0.25675676, 0.20656371, 0.14671815, 0.18725869, 0.19305019],\n",
       "       [0.20656371, 0.14671815, 0.18725869, 0.19305019, 0.16216216],\n",
       "       [0.14671815, 0.18725869, 0.19305019, 0.16216216, 0.25289575],\n",
       "       [0.18725869, 0.19305019, 0.16216216, 0.25289575, 0.23745174],\n",
       "       [0.19305019, 0.16216216, 0.25289575, 0.23745174, 0.25096525],\n",
       "       [0.16216216, 0.25289575, 0.23745174, 0.25096525, 0.30888031],\n",
       "       [0.25289575, 0.23745174, 0.25096525, 0.30888031, 0.38223938],\n",
       "       [0.23745174, 0.25096525, 0.30888031, 0.38223938, 0.36486486],\n",
       "       [0.25096525, 0.30888031, 0.38223938, 0.36486486, 0.2992278 ],\n",
       "       [0.30888031, 0.38223938, 0.36486486, 0.2992278 , 0.24131274],\n",
       "       [0.38223938, 0.36486486, 0.2992278 , 0.24131274, 0.19111969],\n",
       "       [0.36486486, 0.2992278 , 0.24131274, 0.19111969, 0.24131274],\n",
       "       [0.2992278 , 0.24131274, 0.19111969, 0.24131274, 0.26640927],\n",
       "       [0.24131274, 0.19111969, 0.24131274, 0.26640927, 0.24903475],\n",
       "       [0.19111969, 0.24131274, 0.26640927, 0.24903475, 0.31467181],\n",
       "       [0.24131274, 0.26640927, 0.24903475, 0.31467181, 0.31853282],\n",
       "       [0.26640927, 0.24903475, 0.31467181, 0.31853282, 0.32046332],\n",
       "       [0.24903475, 0.31467181, 0.31853282, 0.32046332, 0.40733591],\n",
       "       [0.31467181, 0.31853282, 0.32046332, 0.40733591, 0.5019305 ],\n",
       "       [0.31853282, 0.32046332, 0.40733591, 0.5019305 , 0.46911197],\n",
       "       [0.32046332, 0.40733591, 0.5019305 , 0.46911197, 0.4015444 ],\n",
       "       [0.40733591, 0.5019305 , 0.46911197, 0.4015444 , 0.32818533],\n",
       "       [0.5019305 , 0.46911197, 0.4015444 , 0.32818533, 0.25675676],\n",
       "       [0.46911197, 0.4015444 , 0.32818533, 0.25675676, 0.33590734],\n",
       "       [0.4015444 , 0.32818533, 0.25675676, 0.33590734, 0.34749035],\n",
       "       [0.32818533, 0.25675676, 0.33590734, 0.34749035, 0.33397683],\n",
       "       [0.25675676, 0.33590734, 0.34749035, 0.33397683, 0.41119691],\n",
       "       [0.33590734, 0.34749035, 0.33397683, 0.41119691, 0.4034749 ],\n",
       "       [0.34749035, 0.33397683, 0.41119691, 0.4034749 , 0.41312741],\n",
       "       [0.33397683, 0.41119691, 0.4034749 , 0.41312741, 0.52123552],\n",
       "       [0.41119691, 0.4034749 , 0.41312741, 0.52123552, 0.5965251 ],\n",
       "       [0.4034749 , 0.41312741, 0.52123552, 0.5965251 , 0.58108108],\n",
       "       [0.41312741, 0.52123552, 0.5965251 , 0.58108108, 0.48455598],\n",
       "       [0.52123552, 0.5965251 , 0.58108108, 0.48455598, 0.38996139],\n",
       "       [0.5965251 , 0.58108108, 0.48455598, 0.38996139, 0.32239382],\n",
       "       [0.58108108, 0.48455598, 0.38996139, 0.32239382, 0.38996139],\n",
       "       [0.48455598, 0.38996139, 0.32239382, 0.38996139, 0.40733591],\n",
       "       [0.38996139, 0.32239382, 0.38996139, 0.40733591, 0.38030888],\n",
       "       [0.32239382, 0.38996139, 0.40733591, 0.38030888, 0.48648649],\n",
       "       [0.38996139, 0.40733591, 0.38030888, 0.48648649, 0.47104247],\n",
       "       [0.40733591, 0.38030888, 0.48648649, 0.47104247, 0.48455598],\n",
       "       [0.38030888, 0.48648649, 0.47104247, 0.48455598, 0.61389961],\n",
       "       [0.48648649, 0.47104247, 0.48455598, 0.61389961, 0.6969112 ],\n",
       "       [0.47104247, 0.48455598, 0.61389961, 0.6969112 , 0.7007722 ],\n",
       "       [0.48455598, 0.61389961, 0.6969112 , 0.7007722 , 0.57915058],\n",
       "       [0.61389961, 0.6969112 , 0.7007722 , 0.57915058, 0.46911197],\n",
       "       [0.6969112 , 0.7007722 , 0.57915058, 0.46911197, 0.38803089],\n",
       "       [0.7007722 , 0.57915058, 0.46911197, 0.38803089, 0.44787645],\n",
       "       [0.57915058, 0.46911197, 0.38803089, 0.44787645, 0.45559846],\n",
       "       [0.46911197, 0.38803089, 0.44787645, 0.45559846, 0.41312741],\n",
       "       [0.38803089, 0.44787645, 0.45559846, 0.41312741, 0.4980695 ],\n",
       "       [0.44787645, 0.45559846, 0.41312741, 0.4980695 , 0.47104247],\n",
       "       [0.45559846, 0.41312741, 0.4980695 , 0.47104247, 0.5       ],\n",
       "       [0.41312741, 0.4980695 , 0.47104247, 0.5       , 0.63899614],\n",
       "       [0.4980695 , 0.47104247, 0.5       , 0.63899614, 0.74710425],\n",
       "       [0.47104247, 0.5       , 0.63899614, 0.74710425, 0.77413127],\n",
       "       [0.5       , 0.63899614, 0.74710425, 0.77413127, 0.57915058],\n",
       "       [0.63899614, 0.74710425, 0.77413127, 0.57915058, 0.49227799],\n",
       "       [0.74710425, 0.77413127, 0.57915058, 0.49227799, 0.3976834 ],\n",
       "       [0.77413127, 0.57915058, 0.49227799, 0.3976834 , 0.44980695],\n",
       "       [0.57915058, 0.49227799, 0.3976834 , 0.44980695, 0.49420849],\n",
       "       [0.49227799, 0.3976834 , 0.44980695, 0.49420849, 0.45945946],\n",
       "       [0.3976834 , 0.44980695, 0.49420849, 0.45945946, 0.58301158],\n",
       "       [0.44980695, 0.49420849, 0.45945946, 0.58301158, 0.56370656],\n",
       "       [0.49420849, 0.45945946, 0.58301158, 0.56370656, 0.61003861],\n",
       "       [0.45945946, 0.58301158, 0.56370656, 0.61003861, 0.71042471],\n",
       "       [0.58301158, 0.56370656, 0.61003861, 0.71042471, 0.85714286],\n",
       "       [0.56370656, 0.61003861, 0.71042471, 0.85714286, 0.87837838],\n",
       "       [0.61003861, 0.71042471, 0.85714286, 0.87837838, 0.69305019],\n",
       "       [0.71042471, 0.85714286, 0.87837838, 0.69305019, 0.58494208],\n",
       "       [0.85714286, 0.87837838, 0.69305019, 0.58494208, 0.4980695 ],\n",
       "       [0.87837838, 0.69305019, 0.58494208, 0.4980695 , 0.58108108],\n",
       "       [0.69305019, 0.58494208, 0.4980695 , 0.58108108, 0.6042471 ],\n",
       "       [0.58494208, 0.4980695 , 0.58108108, 0.6042471 , 0.55405405],\n",
       "       [0.4980695 , 0.58108108, 0.6042471 , 0.55405405, 0.60810811],\n",
       "       [0.58108108, 0.6042471 , 0.55405405, 0.60810811, 0.68918919],\n",
       "       [0.6042471 , 0.55405405, 0.60810811, 0.68918919, 0.71042471],\n",
       "       [0.55405405, 0.60810811, 0.68918919, 0.71042471, 0.83204633],\n",
       "       [0.60810811, 0.68918919, 0.71042471, 0.83204633, 1.        ],\n",
       "       [0.68918919, 0.71042471, 0.83204633, 1.        , 0.96911197],\n",
       "       [0.71042471, 0.83204633, 1.        , 0.96911197, 0.77992278],\n",
       "       [0.83204633, 1.        , 0.96911197, 0.77992278, 0.68918919],\n",
       "       [1.        , 0.96911197, 0.77992278, 0.68918919, 0.55212355]])"
      ]
     },
     "execution_count": 59,
     "metadata": {},
     "output_type": "execute_result"
    }
   ],
   "source": [
    "X_norm"
   ]
  },
  {
   "attachments": {},
   "cell_type": "markdown",
   "metadata": {},
   "source": [
    "## Split Data"
   ]
  },
  {
   "cell_type": "code",
   "execution_count": 60,
   "metadata": {},
   "outputs": [],
   "source": [
    "from sklearn.model_selection import train_test_split\n",
    "X_train, X_test, y_train, y_test = train_test_split(X_norm, y, test_size=0.2, random_state=0)"
   ]
  },
  {
   "attachments": {},
   "cell_type": "markdown",
   "metadata": {},
   "source": [
    "## model knn\n"
   ]
  },
  {
   "cell_type": "code",
   "execution_count": 61,
   "metadata": {},
   "outputs": [],
   "source": [
    "# import knn\n",
    "from sklearn.neighbors import KNeighborsRegressor\n",
    "model_knn = KNeighborsRegressor(n_neighbors=7)"
   ]
  },
  {
   "attachments": {},
   "cell_type": "markdown",
   "metadata": {},
   "source": [
    "## fit and predict knn"
   ]
  },
  {
   "cell_type": "code",
   "execution_count": 62,
   "metadata": {},
   "outputs": [],
   "source": [
    "model_knn.fit(X_train, y_train)\n",
    "y_pred=model_knn.predict(X_test)"
   ]
  },
  {
   "attachments": {},
   "cell_type": "markdown",
   "metadata": {},
   "source": [
    "## mse"
   ]
  },
  {
   "attachments": {},
   "cell_type": "markdown",
   "metadata": {},
   "source": [
    "$$ \\text{MSE} = \\frac{1}{n} \\sum_{i=0}^n (y_i - \\hat{y}_i)^2$$ "
   ]
  },
  {
   "cell_type": "code",
   "execution_count": 63,
   "metadata": {},
   "outputs": [
    {
     "data": {
      "text/plain": [
       "1719.33527696793"
      ]
     },
     "execution_count": 63,
     "metadata": {},
     "output_type": "execute_result"
    }
   ],
   "source": [
    "from sklearn.metrics import mean_squared_error\n",
    "mean_squared_error(y_test, y_pred)"
   ]
  },
  {
   "attachments": {},
   "cell_type": "markdown",
   "metadata": {},
   "source": [
    "## result"
   ]
  },
  {
   "cell_type": "code",
   "execution_count": 64,
   "metadata": {},
   "outputs": [
    {
     "data": {
      "text/plain": [
       "(28,)"
      ]
     },
     "execution_count": 64,
     "metadata": {},
     "output_type": "execute_result"
    }
   ],
   "source": [
    "y_test.shape"
   ]
  },
  {
   "cell_type": "code",
   "execution_count": 65,
   "metadata": {},
   "outputs": [
    {
     "data": {
      "text/plain": [
       "(28,)"
      ]
     },
     "execution_count": 65,
     "metadata": {},
     "output_type": "execute_result"
    }
   ],
   "source": [
    "y_pred.shape"
   ]
  },
  {
   "attachments": {},
   "cell_type": "markdown",
   "metadata": {},
   "source": [
    "## MAPE"
   ]
  },
  {
   "cell_type": "code",
   "execution_count": 66,
   "metadata": {},
   "outputs": [
    {
     "data": {
      "text/plain": [
       "0.09142868695336426"
      ]
     },
     "execution_count": 66,
     "metadata": {},
     "output_type": "execute_result"
    }
   ],
   "source": [
    "from sklearn.metrics import mean_absolute_percentage_error\n",
    "\n",
    "mean_absolute_percentage_error(y_test, y_pred)"
   ]
  },
  {
   "cell_type": "code",
   "execution_count": 67,
   "metadata": {},
   "outputs": [
    {
     "data": {
      "text/plain": [
       "29.102040816326532"
      ]
     },
     "execution_count": 67,
     "metadata": {},
     "output_type": "execute_result"
    }
   ],
   "source": [
    "from sklearn.metrics import mean_absolute_error\n",
    "\n",
    "mean_absolute_error(y_test, y_pred)"
   ]
  },
  {
   "attachments": {},
   "cell_type": "markdown",
   "metadata": {},
   "source": [
    "## Naive Bayes Model"
   ]
  },
  {
   "cell_type": "code",
   "execution_count": 68,
   "metadata": {},
   "outputs": [],
   "source": [
    "from sklearn.model_selection import train_test_split\n",
    "from sklearn.naive_bayes import GaussianNB\n",
    "from sklearn.metrics import mean_squared_error, mean_absolute_percentage_error\n",
    "\n",
    "\n",
    "# Create a Naive Bayes\n",
    "naive_bayes = GaussianNB()"
   ]
  },
  {
   "cell_type": "code",
   "execution_count": 69,
   "metadata": {},
   "outputs": [
    {
     "name": "stdout",
     "output_type": "stream",
     "text": [
      "Hello World\n"
     ]
    }
   ],
   "source": [
    "print(\"Hello World\")"
   ]
  }
 ],
 "metadata": {
  "language_info": {
   "name": "python"
  },
  "orig_nbformat": 4
 },
 "nbformat": 4,
 "nbformat_minor": 2
}
